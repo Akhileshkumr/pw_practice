{
 "cells": [
  {
   "cell_type": "markdown",
   "id": "8319ff49",
   "metadata": {},
   "source": [
    "Answer.1->\n",
    "\n",
    "def keyword is used to define function \n"
   ]
  },
  {
   "cell_type": "code",
   "execution_count": 12,
   "id": "213266d4",
   "metadata": {},
   "outputs": [
    {
     "data": {
      "text/plain": [
       "[1, 3, 5, 7, 9, 11, 13, 15, 17, 19, 21, 23, 25]"
      ]
     },
     "execution_count": 12,
     "metadata": {},
     "output_type": "execute_result"
    }
   ],
   "source": [
    "def example1():\n",
    "    u = []\n",
    "    for i in range(1,26,2):\n",
    "        u.append(i)\n",
    "    return u\n",
    "\n",
    "\n",
    "example1()"
   ]
  },
  {
   "cell_type": "markdown",
   "id": "b3ac1e2c",
   "metadata": {},
   "source": [
    "Answer.2->\n",
    "\n",
    "*args -> is used to recieve argument dynamically without defining in the function defination\n",
    "\n",
    "**args -> is used to recieve dictionary as argumnet with key as well as there values"
   ]
  },
  {
   "cell_type": "code",
   "execution_count": 20,
   "id": "50a5024d",
   "metadata": {},
   "outputs": [
    {
     "data": {
      "text/plain": [
       "(1, 2, 3)"
      ]
     },
     "execution_count": 20,
     "metadata": {},
     "output_type": "execute_result"
    }
   ],
   "source": [
    "def expa(*args):\n",
    "    return args\n",
    "\n",
    "expa(1,2,3)"
   ]
  },
  {
   "cell_type": "code",
   "execution_count": 21,
   "id": "81c23060",
   "metadata": {},
   "outputs": [
    {
     "data": {
      "text/plain": [
       "{'a': [1, 2, 3, 4], 'b': [3, 4, 5, 6, 6]}"
      ]
     },
     "execution_count": 21,
     "metadata": {},
     "output_type": "execute_result"
    }
   ],
   "source": [
    "def expa(**args):\n",
    "    return args\n",
    "\n",
    "expa(a =[1,2,3,4] , b = [3,4,5,6,6])"
   ]
  },
  {
   "cell_type": "markdown",
   "id": "f287b448",
   "metadata": {},
   "source": [
    "Answer.3->"
   ]
  },
  {
   "cell_type": "markdown",
   "id": "3f901b8a",
   "metadata": {},
   "source": [
    "An iterator in Python is an object that contains a countable number of elements that can be iterated upon"
   ]
  },
  {
   "cell_type": "code",
   "execution_count": 26,
   "id": "cbdcea45",
   "metadata": {},
   "outputs": [
    {
     "name": "stdout",
     "output_type": "stream",
     "text": [
      "[2, 4, 5, 6, 7, 7, 7, 8, 10]\n"
     ]
    }
   ],
   "source": [
    "my_list = [2,4,5,6,7,7,7,8,10]"
   ]
  },
  {
   "cell_type": "code",
   "execution_count": 27,
   "id": "43864651",
   "metadata": {},
   "outputs": [
    {
     "name": "stdout",
     "output_type": "stream",
     "text": [
      "2\n",
      "4\n",
      "5\n",
      "6\n",
      "7\n",
      "7\n",
      "7\n",
      "8\n",
      "10\n"
     ]
    }
   ],
   "source": [
    "for i in my_list:\n",
    "    print(i)"
   ]
  },
  {
   "cell_type": "markdown",
   "id": "266eed2b",
   "metadata": {},
   "source": [
    "Answer.3->\n",
    "\n",
    "genretor function -> a genrator function that return an iterator that produces a sequence of values when itrated over . genrators are useful when we want to produce a large sequence of values but we dont't want to store all of them in memory at once"
   ]
  },
  {
   "cell_type": "markdown",
   "id": "a810d662",
   "metadata": {},
   "source": [
    "yield keyword is used to return gentretor object from genrator object \n",
    "example->"
   ]
  },
  {
   "cell_type": "code",
   "execution_count": 17,
   "id": "c092c22d",
   "metadata": {},
   "outputs": [
    {
     "name": "stdout",
     "output_type": "stream",
     "text": [
      "0\n",
      "5\n",
      "10\n",
      "15\n",
      "20\n",
      "25\n",
      "30\n",
      "35\n",
      "40\n",
      "45\n"
     ]
    }
   ],
   "source": [
    "def table(n):\n",
    "    for i in range(30):\n",
    "        yield i*n\n",
    "\n",
    "        \n",
    "f = table(5)\n",
    "\n",
    "for i in range(10):\n",
    "    print(next(f))"
   ]
  },
  {
   "cell_type": "markdown",
   "id": "6c79ee4c",
   "metadata": {},
   "source": [
    "Answer.4->"
   ]
  },
  {
   "cell_type": "code",
   "execution_count": 11,
   "id": "cce77015",
   "metadata": {},
   "outputs": [],
   "source": [
    "def prime(n):\n",
    "    f=0\n",
    "    for i in range(int(n/2)):\n",
    "        if(n%i==0):\n",
    "            f=1\n",
    "    if(f==0):\n",
    "        yield n"
   ]
  },
  {
   "cell_type": "code",
   "execution_count": 15,
   "id": "678990af",
   "metadata": {},
   "outputs": [
    {
     "name": "stdout",
     "output_type": "stream",
     "text": [
      "2\n",
      "3\n",
      "5\n",
      "7\n",
      "11\n",
      "13\n",
      "17\n",
      "19\n",
      "23\n",
      "29\n",
      "31\n",
      "37\n",
      "41\n",
      "43\n",
      "47\n",
      "53\n",
      "59\n",
      "61\n",
      "67\n",
      "71\n"
     ]
    }
   ],
   "source": [
    "def prime_generator():\n",
    "    primes = []\n",
    "    num = 2\n",
    "    while num < 1000:\n",
    "        is_prime = True\n",
    "        for prime in primes:\n",
    "            if num % prime == 0:\n",
    "                is_prime = False\n",
    "                break\n",
    "            if prime * prime > num:\n",
    "                break\n",
    "        if is_prime:\n",
    "            primes.append(num)\n",
    "            yield num\n",
    "        num += 1\n",
    "\n",
    "# Create an instance of the generator\n",
    "prime_gen = prime_generator()\n",
    "\n",
    "# Print the first 20 prime numbers\n",
    "for _ in range(20):\n",
    "    print(next(prime_gen))\n"
   ]
  },
  {
   "cell_type": "markdown",
   "id": "92a9b721",
   "metadata": {},
   "source": [
    "Answer.6->"
   ]
  },
  {
   "cell_type": "code",
   "execution_count": 39,
   "id": "f84a45c1",
   "metadata": {},
   "outputs": [],
   "source": [
    "def fib(n):\n",
    "    i=0\n",
    "    a,b=0,1\n",
    "    while(i<10):\n",
    "        yield a\n",
    "        a,b = b,a+b\n",
    "        i+=1"
   ]
  },
  {
   "cell_type": "code",
   "execution_count": 40,
   "id": "ee761daf",
   "metadata": {},
   "outputs": [],
   "source": [
    "f = fib(10)"
   ]
  },
  {
   "cell_type": "code",
   "execution_count": 41,
   "id": "344a00c1",
   "metadata": {},
   "outputs": [
    {
     "name": "stdout",
     "output_type": "stream",
     "text": [
      "0\n",
      "1\n",
      "1\n",
      "2\n",
      "3\n",
      "5\n",
      "8\n",
      "13\n",
      "21\n",
      "34\n"
     ]
    }
   ],
   "source": [
    "for i in range(10):\n",
    "    print(next(f))"
   ]
  },
  {
   "cell_type": "markdown",
   "id": "2f5d029c",
   "metadata": {},
   "source": [
    "Answer.7->"
   ]
  },
  {
   "cell_type": "code",
   "execution_count": 45,
   "id": "c2895c3a",
   "metadata": {},
   "outputs": [],
   "source": [
    "s = \"pwskills\"\n",
    "l = [i for i in s]"
   ]
  },
  {
   "cell_type": "code",
   "execution_count": 46,
   "id": "dc9db1e2",
   "metadata": {},
   "outputs": [
    {
     "data": {
      "text/plain": [
       "['p', 'w', 's', 'k', 'i', 'l', 'l', 's']"
      ]
     },
     "execution_count": 46,
     "metadata": {},
     "output_type": "execute_result"
    }
   ],
   "source": [
    "l"
   ]
  },
  {
   "cell_type": "markdown",
   "id": "a40e808a",
   "metadata": {},
   "source": [
    "Answer.8->"
   ]
  },
  {
   "cell_type": "code",
   "execution_count": 50,
   "id": "cc9fe09d",
   "metadata": {},
   "outputs": [
    {
     "name": "stdout",
     "output_type": "stream",
     "text": [
      "Enter a number: 456\n",
      "456 is not a palindrome\n"
     ]
    }
   ],
   "source": [
    "def is_palindrome(num):\n",
    "    temp = num\n",
    "    reverse = 0\n",
    "\n",
    "    while temp > 0:\n",
    "        digit = temp % 10\n",
    "        reverse = (reverse * 10) + digit\n",
    "        temp = temp // 10\n",
    "\n",
    "    if num == reverse:\n",
    "        return True\n",
    "    else:\n",
    "        return False\n",
    "\n",
    "# Prompt the user for input\n",
    "number = int(input(\"Enter a number: \"))\n",
    "\n",
    "if is_palindrome(number):\n",
    "    print(number, \"is a palindrome\")\n",
    "else:\n",
    "    print(number, \"is not a palindrome\")\n"
   ]
  },
  {
   "cell_type": "markdown",
   "id": "a5b1bd1a",
   "metadata": {},
   "source": [
    "Answer.9->"
   ]
  },
  {
   "cell_type": "code",
   "execution_count": 47,
   "id": "9a22dc00",
   "metadata": {},
   "outputs": [],
   "source": [
    "s = [i for i in range(1,101,2)]"
   ]
  },
  {
   "cell_type": "code",
   "execution_count": 48,
   "id": "6a78e7ea",
   "metadata": {},
   "outputs": [
    {
     "data": {
      "text/plain": [
       "[1,\n",
       " 3,\n",
       " 5,\n",
       " 7,\n",
       " 9,\n",
       " 11,\n",
       " 13,\n",
       " 15,\n",
       " 17,\n",
       " 19,\n",
       " 21,\n",
       " 23,\n",
       " 25,\n",
       " 27,\n",
       " 29,\n",
       " 31,\n",
       " 33,\n",
       " 35,\n",
       " 37,\n",
       " 39,\n",
       " 41,\n",
       " 43,\n",
       " 45,\n",
       " 47,\n",
       " 49,\n",
       " 51,\n",
       " 53,\n",
       " 55,\n",
       " 57,\n",
       " 59,\n",
       " 61,\n",
       " 63,\n",
       " 65,\n",
       " 67,\n",
       " 69,\n",
       " 71,\n",
       " 73,\n",
       " 75,\n",
       " 77,\n",
       " 79,\n",
       " 81,\n",
       " 83,\n",
       " 85,\n",
       " 87,\n",
       " 89,\n",
       " 91,\n",
       " 93,\n",
       " 95,\n",
       " 97,\n",
       " 99]"
      ]
     },
     "execution_count": 48,
     "metadata": {},
     "output_type": "execute_result"
    }
   ],
   "source": [
    "s"
   ]
  },
  {
   "cell_type": "code",
   "execution_count": null,
   "id": "a2fca7ac",
   "metadata": {},
   "outputs": [],
   "source": []
  }
 ],
 "metadata": {
  "kernelspec": {
   "display_name": "Python 3 (ipykernel)",
   "language": "python",
   "name": "python3"
  },
  "language_info": {
   "codemirror_mode": {
    "name": "ipython",
    "version": 3
   },
   "file_extension": ".py",
   "mimetype": "text/x-python",
   "name": "python",
   "nbconvert_exporter": "python",
   "pygments_lexer": "ipython3",
   "version": "3.9.12"
  }
 },
 "nbformat": 4,
 "nbformat_minor": 5
}
