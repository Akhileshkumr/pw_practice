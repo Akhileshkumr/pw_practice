{
 "cells": [
  {
   "cell_type": "code",
   "execution_count": 8,
   "id": "a1f6e927",
   "metadata": {},
   "outputs": [],
   "source": [
    "#pip install ipython-sql"
   ]
  },
  {
   "cell_type": "code",
   "execution_count": 9,
   "id": "cc452b1d",
   "metadata": {},
   "outputs": [],
   "source": [
    "#pip install pymysql"
   ]
  },
  {
   "cell_type": "code",
   "execution_count": 7,
   "id": "4170ff8b",
   "metadata": {},
   "outputs": [],
   "source": [
    "%load_ext sql"
   ]
  },
  {
   "cell_type": "code",
   "execution_count": 12,
   "id": "7b353036",
   "metadata": {},
   "outputs": [],
   "source": [
    "%sql mysql+pymysql://root@127.0.0.1/demo"
   ]
  },
  {
   "cell_type": "code",
   "execution_count": 19,
   "id": "3cfa80a4",
   "metadata": {},
   "outputs": [
    {
     "name": "stdout",
     "output_type": "stream",
     "text": [
      " * mysql+pymysql://root@127.0.0.1/demo\n",
      "0 rows affected.\n"
     ]
    },
    {
     "data": {
      "text/plain": [
       "[]"
      ]
     },
     "execution_count": 19,
     "metadata": {},
     "output_type": "execute_result"
    }
   ],
   "source": [
    "%%sql \n",
    "CREATE TABLE persons (\n",
    "    PersonID int,\n",
    "    LastName varchar(255),\n",
    "    FirstName varchar(255),\n",
    "    Address varchar(255),\n",
    "    City varchar(255)\n",
    ");"
   ]
  },
  {
   "cell_type": "code",
   "execution_count": 20,
   "id": "0e5bbbfb",
   "metadata": {},
   "outputs": [
    {
     "name": "stdout",
     "output_type": "stream",
     "text": [
      " * mysql+pymysql://root@127.0.0.1/demo\n",
      "1 rows affected.\n"
     ]
    },
    {
     "data": {
      "text/plain": [
       "[]"
      ]
     },
     "execution_count": 20,
     "metadata": {},
     "output_type": "execute_result"
    }
   ],
   "source": [
    "%%sql\n",
    "INSERT INTO persons (PersonID, LastName, FirstName, Address, city)\n",
    "VALUES ('Cardinal', 'Tom B. Erichsen', 'Skagen 21', 'Stavanger', '4006');"
   ]
  },
  {
   "cell_type": "code",
   "execution_count": 22,
   "id": "da7a61a1",
   "metadata": {},
   "outputs": [
    {
     "name": "stdout",
     "output_type": "stream",
     "text": [
      " * mysql+pymysql://root@127.0.0.1/demo\n",
      "1 rows affected.\n"
     ]
    },
    {
     "data": {
      "text/html": [
       "<table>\n",
       "    <thead>\n",
       "        <tr>\n",
       "            <th>PersonID</th>\n",
       "            <th>LastName</th>\n",
       "            <th>FirstName</th>\n",
       "            <th>Address</th>\n",
       "            <th>City</th>\n",
       "        </tr>\n",
       "    </thead>\n",
       "    <tbody>\n",
       "        <tr>\n",
       "            <td>0</td>\n",
       "            <td>Tom B. Erichsen</td>\n",
       "            <td>Skagen 21</td>\n",
       "            <td>Stavanger</td>\n",
       "            <td>4006</td>\n",
       "        </tr>\n",
       "    </tbody>\n",
       "</table>"
      ],
      "text/plain": [
       "[(0, 'Tom B. Erichsen', 'Skagen 21', 'Stavanger', '4006')]"
      ]
     },
     "execution_count": 22,
     "metadata": {},
     "output_type": "execute_result"
    }
   ],
   "source": [
    "%%sql\n",
    "Select * from persons;"
   ]
  },
  {
   "cell_type": "code",
   "execution_count": null,
   "id": "9729814b",
   "metadata": {},
   "outputs": [],
   "source": []
  }
 ],
 "metadata": {
  "kernelspec": {
   "display_name": "Python 3 (ipykernel)",
   "language": "python",
   "name": "python3"
  },
  "language_info": {
   "codemirror_mode": {
    "name": "ipython",
    "version": 3
   },
   "file_extension": ".py",
   "mimetype": "text/x-python",
   "name": "python",
   "nbconvert_exporter": "python",
   "pygments_lexer": "ipython3",
   "version": "3.9.12"
  }
 },
 "nbformat": 4,
 "nbformat_minor": 5
}
