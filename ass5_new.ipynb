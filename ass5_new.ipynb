{
 "cells": [
  {
   "cell_type": "markdown",
   "id": "f5f0502b",
   "metadata": {},
   "source": [
    "Answer_1."
   ]
  },
  {
   "cell_type": "code",
   "execution_count": 36,
   "id": "ae0c5c39",
   "metadata": {},
   "outputs": [],
   "source": [
    "import numpy as np\n",
    "def calculate_product1(l):\n",
    "    li = []\n",
    "    for i in l:\n",
    "        if isinstance(i, (int, float)):\n",
    "            li.append(i)\n",
    "        if isinstance(i, dict):\n",
    "            for j in i.values():\n",
    "                if isinstance(j, (int, float)):\n",
    "                    li.append(j)\n",
    "        if isinstance(i, (list, tuple)):\n",
    "            for j in i:\n",
    "                if isinstance(j, (int, float)):\n",
    "                    li.append(j)\n",
    "    \n",
    "    p = np.int64()\n",
    "    p=1\n",
    "    for num in li:\n",
    "        if isinstance(num, bool):\n",
    "            continue \n",
    "        p *= num\n",
    "    \n",
    "    return p\n"
   ]
  },
  {
   "cell_type": "code",
   "execution_count": 37,
   "id": "f4212b42",
   "metadata": {},
   "outputs": [
    {
     "name": "stdout",
     "output_type": "stream",
     "text": [
      "209018880\n"
     ]
    }
   ],
   "source": [
    "list1 = [1,2,3,4, [4,5,6, True], False, (4,6,7,8,3), {1,2,3,3,2,1}, {1:3, \"key2\": [5, 6, 7, 8], 4: (4,\n",
    "2, 1, 4)}, [6, 'data science'], 'Machine Learning']\n",
    "list.index\n",
    "t = calculate_product1(list1)\n",
    "print(t)"
   ]
  },
  {
   "cell_type": "markdown",
   "id": "8b26d508",
   "metadata": {},
   "source": [
    "Answer.2->"
   ]
  },
  {
   "cell_type": "code",
   "execution_count": 2,
   "id": "e54a5a5c",
   "metadata": {},
   "outputs": [
    {
     "data": {
      "text/plain": [
       "'r$dzmg$gl$yvzxznv$z$wzgz$hxrvmgrhg'"
      ]
     },
     "execution_count": 2,
     "metadata": {},
     "output_type": "execute_result"
    }
   ],
   "source": [
    "def enc(s):\n",
    "    al = ['a','b','c','d','e','f','g','h','i','j','k','l','m','n','o','p','q','r','s','t','u','v','w','x','y','z']\n",
    "   # AL = [A,B,C,D,E,F,G,H,I,J,K,L,M,N,O,P,Q,R,S,T,U,V,W,X,Y,Z]\n",
    "    s=s.lower()\n",
    "    new_s = \"\"\n",
    "    for ch in s:\n",
    "        #print(ch)\n",
    "        if ch ==\" \":\n",
    "            new_s +='$'\n",
    "        else:\n",
    "            i = al.index(ch)+1\n",
    "            new_s += al[len(al)-i]\n",
    "    return new_s\n",
    "\n",
    "s=\"I want to beacame a Data Scientist\"\n",
    "enc(s)"
   ]
  },
  {
   "cell_type": "code",
   "execution_count": null,
   "id": "11376c59",
   "metadata": {},
   "outputs": [],
   "source": []
  }
 ],
 "metadata": {
  "kernelspec": {
   "display_name": "Python 3 (ipykernel)",
   "language": "python",
   "name": "python3"
  },
  "language_info": {
   "codemirror_mode": {
    "name": "ipython",
    "version": 3
   },
   "file_extension": ".py",
   "mimetype": "text/x-python",
   "name": "python",
   "nbconvert_exporter": "python",
   "pygments_lexer": "ipython3",
   "version": "3.10.9"
  }
 },
 "nbformat": 4,
 "nbformat_minor": 5
}
