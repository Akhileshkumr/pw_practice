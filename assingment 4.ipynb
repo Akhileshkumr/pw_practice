{
 "cells": [
  {
   "cell_type": "markdown",
   "id": "6f8b1c8a",
   "metadata": {},
   "source": [
    "1."
   ]
  },
  {
   "cell_type": "code",
   "execution_count": 3,
   "id": "5d2fb82f",
   "metadata": {},
   "outputs": [
    {
     "name": "stdout",
     "output_type": "stream",
     "text": [
      "enter the percentage92\n",
      "A\n"
     ]
    }
   ],
   "source": [
    "p = int(input(\"enter the percentage\"))\n",
    "if(p>90):\n",
    "    print(\"A\")\n",
    "elif(p>80 and p<90):\n",
    "    print(\"B\")\n",
    "elif(p>60 and p<80):\n",
    "    ptint(\"C\")\n",
    "elif(p<60):\n",
    "    print(\"D\")"
   ]
  },
  {
   "cell_type": "markdown",
   "id": "50413438",
   "metadata": {},
   "source": [
    "2."
   ]
  },
  {
   "cell_type": "code",
   "execution_count": 4,
   "id": "c8e9c32e",
   "metadata": {},
   "outputs": [
    {
     "name": "stdout",
     "output_type": "stream",
     "text": [
      "enter the bike price50124535\n",
      "15%\n"
     ]
    }
   ],
   "source": [
    "p = int(input(\"enter the bike price\"))\n",
    "if(p>100000):\n",
    "    print(\"15%\")\n",
    "elif(p>50000 and p<= 100000):\n",
    "    print(\"10%\")\n",
    "elif(p<=50000):\n",
    "    print(\"5%\")"
   ]
  },
  {
   "cell_type": "markdown",
   "id": "7e1384e0",
   "metadata": {},
   "source": [
    "3."
   ]
  },
  {
   "cell_type": "code",
   "execution_count": 5,
   "id": "8a94549e",
   "metadata": {},
   "outputs": [
    {
     "name": "stdout",
     "output_type": "stream",
     "text": [
      "enter user citydelhi\n",
      "Red Fort\n"
     ]
    }
   ],
   "source": [
    "p = input(\"enter user city\")\n",
    "if(p == \"Delhi\" or p == \"delhi\"):\n",
    "    print(\"Red Fort\")\n",
    "elif(p == \"agra\" or p == \"Agra\" ):\n",
    "    print(\"Taj Mahal\")\n",
    "elif(p == \"Jaipur\" or p == \"jaipur\"):\n",
    "    print(\"Jai Mahal\")"
   ]
  },
  {
   "cell_type": "markdown",
   "id": "c91706d7",
   "metadata": {},
   "source": [
    "4."
   ]
  },
  {
   "cell_type": "code",
   "execution_count": 18,
   "id": "d4973c32",
   "metadata": {},
   "outputs": [
    {
     "name": "stdout",
     "output_type": "stream",
     "text": [
      "enter the number90\n",
      "90\n",
      "2\n"
     ]
    }
   ],
   "source": [
    "c = 0\n",
    "i = int(input(\"enter the number\"))\n",
    "print(i)\n",
    "while(i>10):\n",
    "    i = i/3\n",
    "    #print(i)\n",
    "    c = c+1\n",
    "print(c)"
   ]
  },
  {
   "cell_type": "markdown",
   "id": "97df5b0e",
   "metadata": {},
   "source": [
    "5."
   ]
  },
  {
   "cell_type": "markdown",
   "id": "3cf9f652",
   "metadata": {},
   "source": [
    "A while loop in Python is used to repeatedly execute a block of code as long as a given condition is true. It provides a way to create loops that are not based on a predetermined number of iterations but rather on the state of a condition."
   ]
  },
  {
   "cell_type": "markdown",
   "id": "4f0a0b42",
   "metadata": {},
   "source": [
    "6."
   ]
  },
  {
   "cell_type": "code",
   "execution_count": 8,
   "id": "2182ec1e",
   "metadata": {},
   "outputs": [
    {
     "name": "stdout",
     "output_type": "stream",
     "text": [
      "1 \n",
      "1 2 \n",
      "1 2 3 \n",
      "1 2 3 4 \n",
      "1 2 3 4 5 \n"
     ]
    }
   ],
   "source": [
    "i=1\n",
    "while(i<6):\n",
    "    j=1\n",
    "    while(j<=i):\n",
    "        print(j, end = \" \")\n",
    "        j+=1\n",
    "    print()\n",
    "    i+=1"
   ]
  },
  {
   "cell_type": "code",
   "execution_count": 10,
   "id": "c4723407",
   "metadata": {},
   "outputs": [
    {
     "name": "stdout",
     "output_type": "stream",
     "text": [
      "1 2 3 4 5 \n",
      "1 2 3 4 \n",
      "1 2 3 \n",
      "1 2 \n",
      "1 \n"
     ]
    }
   ],
   "source": [
    "i=5\n",
    "while(i>=1):\n",
    "    j=1\n",
    "    while(j<=i):\n",
    "        print(j , end = \" \")\n",
    "        j+=1\n",
    "    print()\n",
    "    i-=1"
   ]
  },
  {
   "cell_type": "code",
   "execution_count": 5,
   "id": "3c630bb8",
   "metadata": {},
   "outputs": [
    {
     "name": "stdout",
     "output_type": "stream",
     "text": [
      "        5 \n",
      "      4 5 \n",
      "    3 4 5 \n",
      "  2 3 4 5 \n",
      "1 2 3 4 5 \n"
     ]
    }
   ],
   "source": [
    "i=5\n",
    "while(i>=1):\n",
    "    j=1\n",
    "    while(j<i):\n",
    "        print(\" \" , end = \" \")\n",
    "        j+=1\n",
    "    k = 0\n",
    "    while(k<=i-j):\n",
    "        t=j\n",
    "        while(t<=5):\n",
    "            print(t , end = \" \")\n",
    "            t+=1\n",
    "        k+=1\n",
    "    print()\n",
    "    i-=1"
   ]
  },
  {
   "cell_type": "markdown",
   "id": "2dd705ff",
   "metadata": {},
   "source": [
    "7."
   ]
  },
  {
   "cell_type": "code",
   "execution_count": 8,
   "id": "43f0c109",
   "metadata": {},
   "outputs": [
    {
     "name": "stdout",
     "output_type": "stream",
     "text": [
      "10\n",
      "9\n",
      "8\n",
      "7\n",
      "6\n",
      "5\n",
      "4\n",
      "3\n",
      "2\n",
      "1\n"
     ]
    }
   ],
   "source": [
    "i=10\n",
    "while(i>=1):\n",
    "    print(i)\n",
    "    i-=1"
   ]
  },
  {
   "cell_type": "code",
   "execution_count": null,
   "id": "ff1b2259",
   "metadata": {},
   "outputs": [],
   "source": []
  }
 ],
 "metadata": {
  "kernelspec": {
   "display_name": "Python 3 (ipykernel)",
   "language": "python",
   "name": "python3"
  },
  "language_info": {
   "codemirror_mode": {
    "name": "ipython",
    "version": 3
   },
   "file_extension": ".py",
   "mimetype": "text/x-python",
   "name": "python",
   "nbconvert_exporter": "python",
   "pygments_lexer": "ipython3",
   "version": "3.10.9"
  }
 },
 "nbformat": 4,
 "nbformat_minor": 5
}
