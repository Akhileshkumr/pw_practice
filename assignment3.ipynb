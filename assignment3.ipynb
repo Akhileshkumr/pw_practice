{
 "cells": [
  {
   "cell_type": "markdown",
   "id": "6a36993a",
   "metadata": {},
   "source": [
    "# Assignment"
   ]
  },
  {
   "cell_type": "markdown",
   "id": "74f58087",
   "metadata": {},
   "source": [
    "Answer->1"
   ]
  },
  {
   "cell_type": "markdown",
   "id": "522a9a31",
   "metadata": {},
   "source": [
    "class is a blueprint which defines some function of an realtime entity.\n",
    "object is a istance of class through which we can acess the all member function and member variables of class\n",
    "\n",
    "example:"
   ]
  },
  {
   "cell_type": "code",
   "execution_count": 6,
   "id": "5a26cf18",
   "metadata": {},
   "outputs": [],
   "source": [
    "class multiply:\n",
    "    def __init__(self,x,y):\n",
    "#         print(\"constructor call\")\n",
    "        self.x = x\n",
    "        self.y = y\n",
    "    def mult(self):\n",
    "        return self.x*self.y\n",
    "\n",
    "s = multiply(5,6)\n",
    "\n",
    "s.mult()"
   ]
  },
  {
   "cell_type": "markdown",
   "id": "d7a867e7",
   "metadata": {},
   "source": [
    "Answer.2->\n",
    "\n",
    "the four pillars of OPPs:\n",
    "    1.polymorphism\n",
    "    2.Inheritance\n",
    "    3.Incapsulation\n",
    "    4.Abstraction"
   ]
  },
  {
   "cell_type": "markdown",
   "id": "783791bc",
   "metadata": {},
   "source": [
    "Answer.3->"
   ]
  },
  {
   "cell_type": "markdown",
   "id": "3f58875d",
   "metadata": {},
   "source": [
    "__init__() function is constructor of class which is used to initilize member variables of the class \n",
    "Example:"
   ]
  },
  {
   "cell_type": "code",
   "execution_count": 10,
   "id": "e4ed3659",
   "metadata": {},
   "outputs": [],
   "source": [
    "class add:\n",
    "    def __init__(self,x,y):\n",
    "        self.x = x\n",
    "        self.y = y\n",
    "    \n",
    "    def a(self):\n",
    "        return self.x+self.y\n",
    "        \n",
    "\n",
    "x = add(5,7)\n",
    "\n",
    "x.a()"
   ]
  },
  {
   "cell_type": "markdown",
   "id": "ef6e1cb4",
   "metadata": {},
   "source": [
    "__init__() function is a function used to initilize the values of x and y in class add"
   ]
  },
  {
   "cell_type": "markdown",
   "id": "4130fbb4",
   "metadata": {},
   "source": [
    "Answer.4->"
   ]
  },
  {
   "cell_type": "markdown",
   "id": "74d0f017",
   "metadata": {},
   "source": [
    "self is the instance of class in which is used . it is used to distinguish the member function and member variable"
   ]
  },
  {
   "cell_type": "markdown",
   "id": "72195583",
   "metadata": {},
   "source": [
    "Answer.5->"
   ]
  },
  {
   "cell_type": "markdown",
   "id": "19d8d894",
   "metadata": {},
   "source": [
    "inheritance is basic feature of a oops concept use to resue the same code in various class with some permissions . all this is used reduce the code "
   ]
  },
  {
   "cell_type": "code",
   "execution_count": null,
   "id": "1074ac48",
   "metadata": {},
   "outputs": [],
   "source": []
  }
 ],
 "metadata": {
  "kernelspec": {
   "display_name": "Python 3 (ipykernel)",
   "language": "python",
   "name": "python3"
  },
  "language_info": {
   "codemirror_mode": {
    "name": "ipython",
    "version": 3
   },
   "file_extension": ".py",
   "mimetype": "text/x-python",
   "name": "python",
   "nbconvert_exporter": "python",
   "pygments_lexer": "ipython3",
   "version": "3.10.9"
  }
 },
 "nbformat": 4,
 "nbformat_minor": 5
}
