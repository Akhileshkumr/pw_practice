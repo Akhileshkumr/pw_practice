{
 "cells": [
  {
   "cell_type": "markdown",
   "id": "4aab1d3b",
   "metadata": {},
   "source": [
    "# ASSIGNMENT 1"
   ]
  },
  {
   "cell_type": "markdown",
   "id": "e093a4a0",
   "metadata": {},
   "source": [
    "Answer.1->"
   ]
  },
  {
   "cell_type": "code",
   "execution_count": 9,
   "id": "7df8a4b2",
   "metadata": {},
   "outputs": [
    {
     "name": "stdout",
     "output_type": "stream",
     "text": [
      "0\n",
      "1\n",
      "2\n",
      "3\n",
      "4\n",
      "5\n",
      "6\n",
      "7\n",
      "8\n",
      "9\n"
     ]
    }
   ],
   "source": [
    "for i in range(10):\n",
    "    print(i);"
   ]
  },
  {
   "cell_type": "code",
   "execution_count": 10,
   "id": "06445c1b",
   "metadata": {},
   "outputs": [
    {
     "name": "stdout",
     "output_type": "stream",
     "text": [
      "0\n",
      "1\n",
      "2\n",
      "3\n",
      "4\n",
      "5\n",
      "6\n",
      "7\n",
      "8\n",
      "9\n"
     ]
    }
   ],
   "source": [
    "i=0\n",
    "while(i<10):\n",
    "    print(i)\n",
    "    i=i+1\n",
    "    "
   ]
  },
  {
   "cell_type": "markdown",
   "id": "3582e70d",
   "metadata": {},
   "source": [
    "Answer.2->"
   ]
  },
  {
   "cell_type": "code",
   "execution_count": 11,
   "id": "a4b01fe8",
   "metadata": {},
   "outputs": [
    {
     "name": "stdout",
     "output_type": "stream",
     "text": [
      "45\n"
     ]
    }
   ],
   "source": [
    "sum = 0\n",
    "for i in range(10):\n",
    "    sum +=i\n",
    "    \n",
    "print(sum)    "
   ]
  },
  {
   "cell_type": "code",
   "execution_count": 12,
   "id": "81a7f03e",
   "metadata": {},
   "outputs": [
    {
     "name": "stdout",
     "output_type": "stream",
     "text": [
      "45\n"
     ]
    }
   ],
   "source": [
    "i=0\n",
    "sum=0\n",
    "while(i<10):\n",
    "    sum+=i;\n",
    "    i=i+1\n",
    "\n",
    "print(sum)"
   ]
  },
  {
   "cell_type": "markdown",
   "id": "1b21de80",
   "metadata": {},
   "source": [
    "Answer.3->"
   ]
  },
  {
   "cell_type": "code",
   "execution_count": 33,
   "id": "a44e6efb",
   "metadata": {},
   "outputs": [
    {
     "name": "stdout",
     "output_type": "stream",
     "text": [
      "enter the unit of bill310\n",
      "2250.0\n"
     ]
    }
   ],
   "source": [
    "unit = int(input(\"enter the unit of bill\"))\n",
    "charge=0\n",
    "if unit>300:\n",
    "    c = unit-300\n",
    "    charge = charge + c*20\n",
    "    unit = unit - c\n",
    "if(unit<=300 & unit>200):\n",
    "    c = unit-200\n",
    "    charge = charge + c*10\n",
    "    unit = unit - c\n",
    "if(unit<=200 & unit>100):\n",
    "    c = unit - 100\n",
    "    charge = charge + c *6\n",
    "    unit = unit-c\n",
    "if(unit<=100):\n",
    "    charge = charge + unit*4.5\n",
    "    \n",
    "    \n",
    "print(charge)"
   ]
  },
  {
   "cell_type": "markdown",
   "id": "e7240eb7",
   "metadata": {},
   "source": [
    "Answer.4->"
   ]
  },
  {
   "cell_type": "code",
   "execution_count": 34,
   "id": "a41bdc92",
   "metadata": {},
   "outputs": [],
   "source": [
    "l = list(range(1,101))"
   ]
  },
  {
   "cell_type": "code",
   "execution_count": 42,
   "id": "f19daeda",
   "metadata": {},
   "outputs": [
    {
     "name": "stdout",
     "output_type": "stream",
     "text": [
      "[4, 5, 8, 10, 12, 15, 16, 20, 24, 25, 28, 30, 32, 35, 36, 40, 44, 45, 48, 50, 52, 55, 56, 60, 64, 65, 68, 70, 72, 75, 76, 80, 84, 85, 88, 90, 92, 95, 96, 100]\n"
     ]
    }
   ],
   "source": [
    "l1 = []\n",
    "for i in l:\n",
    "    t = i**3\n",
    "    if (i%4==0 or i%5 == 0):\n",
    "        l1.append(i)\n",
    "print(l1)"
   ]
  },
  {
   "cell_type": "markdown",
   "id": "a084e2cb",
   "metadata": {},
   "source": [
    "Answer.3->"
   ]
  },
  {
   "cell_type": "code",
   "execution_count": 43,
   "id": "409a6df2",
   "metadata": {},
   "outputs": [
    {
     "name": "stdout",
     "output_type": "stream",
     "text": [
      "10\n"
     ]
    }
   ],
   "source": [
    "string = \"I want to be a data scientist\"\n",
    "count =0\n",
    "for i in string:\n",
    "    if(i=='a' or i == \"e\" or i == \"i\" or i == \"o\" or i == \"u\" or i == \"A\" or i == \"E\" or i == \"I\"or i == \"O\" or i == \"U\"):\n",
    "        count +=1\n",
    "print(count)        "
   ]
  },
  {
   "cell_type": "code",
   "execution_count": null,
   "id": "4de26758",
   "metadata": {},
   "outputs": [],
   "source": []
  }
 ],
 "metadata": {
  "kernelspec": {
   "display_name": "Python 3 (ipykernel)",
   "language": "python",
   "name": "python3"
  },
  "language_info": {
   "codemirror_mode": {
    "name": "ipython",
    "version": 3
   },
   "file_extension": ".py",
   "mimetype": "text/x-python",
   "name": "python",
   "nbconvert_exporter": "python",
   "pygments_lexer": "ipython3",
   "version": "3.9.12"
  }
 },
 "nbformat": 4,
 "nbformat_minor": 5
}
